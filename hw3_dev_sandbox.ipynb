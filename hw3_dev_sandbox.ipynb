{
 "cells": [
  {
   "cell_type": "markdown",
   "metadata": {},
   "source": [
    "# Homework and bake-off: pragmatic color descriptions"
   ]
  },
  {
   "cell_type": "code",
   "execution_count": null,
   "metadata": {},
   "outputs": [],
   "source": [
    "__author__ = \"Christopher Potts\"\n",
    "__version__ = \"CS224u, Stanford, Summer 2021\""
   ]
  },
  {
   "cell_type": "markdown",
   "metadata": {},
   "source": [
    "## Contents\n",
    "\n",
    "1. [Overview](#Overview)\n",
    "1. [Set-up](#Set-up)\n",
    "1. [All two-word examples as a dev corpus](#All-two-word-examples-as-a-dev-corpus)\n",
    "1. [Dev dataset](#Dev-dataset)\n",
    "1. [Random train–test split for development](#Random-train–test-split-for-development)\n",
    "1. [Question 1: Improve the tokenizer [1 point]](#Question-1:-Improve-the-tokenizer-[1-point])\n",
    "1. [Use the tokenizer](#Use-the-tokenizer)\n",
    "1. [Question 2: Improve the color representations [1 point]](#Question-2:-Improve-the-color-representations-[1-point])\n",
    "1. [Use the color representer](#Use-the-color-representer)\n",
    "1. [Initial model](#Initial-model)\n",
    "1. [Question 3: GloVe embeddings [1 point]](#Question-3:-GloVe-embeddings-[1-point])\n",
    "1. [Try the GloVe representations](#Try-the-GloVe-representations)\n",
    "1. [Question 4: Color context [3 points]](#Question-4:-Color-context-[3-points])\n",
    "1. [Your original system [3 points]](#Your-original-system-[3-points])\n",
    "1. [Bakeoff [1 point]](#Bakeoff-[1-point])\n",
    "1. [Submission Instruction](#Submission-Instruction)"
   ]
  },
  {
   "cell_type": "markdown",
   "metadata": {},
   "source": [
    "## Overview\n",
    "\n",
    "This homework and associated bake-off are oriented toward building an effective system for generating color descriptions that are pragmatic in the sense that they would help a reader/listener figure out which color was being referred to in a shared context consisting of a target color (whose identity is known only to the describer/speaker) and a set of distractors.\n",
    "\n",
    "The notebook [colors_overview.ipynb](colors_overview.ipynb) should be studied before work on this homework begins. That notebook provides backgroud on the task, the dataset, and the modeling code that you will be using and adapting.\n",
    "\n",
    "The homework questions are more open-ended than previous ones have been. Rather than asking you to implement pre-defined functionality, they ask you to try to improve baseline components of the full system in ways that you find to be effective. As usual, this culminates in a prompt asking you to develop a novel system for entry into the bake-off. In this case, though, the work you do for the homework will likely be directly incorporated into that system (not required, but an efficient way to work at the very least)."
   ]
  },
  {
   "cell_type": "markdown",
   "metadata": {},
   "source": [
    "## Set-up"
   ]
  },
  {
   "cell_type": "markdown",
   "metadata": {},
   "source": [
    "See [colors_overview.ipynb](colors_overview.ipynb) for set-up in instructions and other background details."
   ]
  },
  {
   "cell_type": "code",
   "execution_count": 1,
   "metadata": {},
   "outputs": [],
   "source": [
    "from colors import ColorsCorpusReader\n",
    "from nltk.translate.bleu_score import corpus_bleu\n",
    "import numpy as np\n",
    "import os\n",
    "import pandas as pd\n",
    "from sklearn.model_selection import train_test_split\n",
    "from torch_color_describer import ContextualColorDescriber\n",
    "from torch_color_describer import create_example_dataset\n",
    "\n",
    "import utils\n",
    "from utils import START_SYMBOL, END_SYMBOL, UNK_SYMBOL"
   ]
  },
  {
   "cell_type": "code",
   "execution_count": 2,
   "metadata": {},
   "outputs": [],
   "source": [
    "utils.fix_random_seeds()"
   ]
  },
  {
   "cell_type": "code",
   "execution_count": 3,
   "metadata": {},
   "outputs": [],
   "source": [
    "COLORS_SRC_FILENAME = os.path.join(\n",
    "    \"data\", \"colors\", \"filteredCorpus.csv\")"
   ]
  },
  {
   "cell_type": "markdown",
   "metadata": {},
   "source": [
    "## All two-word examples as a dev corpus\n",
    "\n",
    "So that you don't have to sit through excessively long training runs during development, I suggest working with the two-word-only subset of the corpus until you enter into the late stages of system testing."
   ]
  },
  {
   "cell_type": "code",
   "execution_count": 4,
   "metadata": {},
   "outputs": [],
   "source": [
    "dev_corpus = ColorsCorpusReader(\n",
    "    COLORS_SRC_FILENAME,\n",
    "    word_count=2,\n",
    "    normalize_colors=True)"
   ]
  },
  {
   "cell_type": "code",
   "execution_count": 5,
   "metadata": {},
   "outputs": [],
   "source": [
    "dev_examples = list(dev_corpus.read())"
   ]
  },
  {
   "cell_type": "markdown",
   "metadata": {},
   "source": [
    "This subset has about one-third the examples of the full corpus:"
   ]
  },
  {
   "cell_type": "code",
   "execution_count": 6,
   "metadata": {},
   "outputs": [
    {
     "data": {
      "text/plain": [
       "13890"
      ]
     },
     "execution_count": 6,
     "metadata": {},
     "output_type": "execute_result"
    }
   ],
   "source": [
    "len(dev_examples)"
   ]
  },
  {
   "cell_type": "markdown",
   "metadata": {},
   "source": [
    "We __should__ worry that it's not a fully representative sample. Most of the descriptions in the full corpus are shorter, and a large proportion are longer. So this dataset is mainly for debugging, development, and general hill-climbing. All findings should be validated on the full dataset at some point."
   ]
  },
  {
   "cell_type": "markdown",
   "metadata": {},
   "source": [
    "## Dev dataset\n",
    "\n",
    "The first step is to extract the raw color and raw texts from the corpus:"
   ]
  },
  {
   "cell_type": "code",
   "execution_count": 6,
   "metadata": {},
   "outputs": [],
   "source": [
    "dev_rawcols, dev_texts = zip(*[[ex.colors, ex.contents] for ex in dev_examples])"
   ]
  },
  {
   "cell_type": "markdown",
   "metadata": {},
   "source": [
    "The raw color representations are suitable inputs to a model, but the texts are just strings, so they can't really be processed as-is. Question 1 asks you to do some tokenizing!"
   ]
  },
  {
   "cell_type": "markdown",
   "metadata": {},
   "source": [
    "## Random train–test split for development\n",
    "\n",
    "For the sake of development runs, we create a random train–test split:"
   ]
  },
  {
   "cell_type": "code",
   "execution_count": 7,
   "metadata": {},
   "outputs": [],
   "source": [
    "dev_rawcols_train, dev_rawcols_test, dev_texts_train, dev_texts_test = \\\n",
    "    train_test_split(dev_rawcols, dev_texts)"
   ]
  },
  {
   "cell_type": "markdown",
   "metadata": {},
   "source": [
    "## Question 1: Improve the tokenizer [1 point]\n",
    "\n",
    "This is the first required question – the first required modification to the default pipeline.\n",
    "\n",
    "The function `tokenize_example` simply splits its string on whitespace and adds the required start and end symbols:"
   ]
  },
  {
   "cell_type": "code",
   "execution_count": 190,
   "metadata": {},
   "outputs": [
    {
     "name": "stdout",
     "output_type": "stream",
     "text": [
      "Requirement already satisfied: nltk in /Applications/miniconda3/envs/nlu/lib/python3.8/site-packages (3.6.2)\n",
      "Requirement already satisfied: click in /Applications/miniconda3/envs/nlu/lib/python3.8/site-packages (from nltk) (7.1.2)\n",
      "Requirement already satisfied: regex in /Applications/miniconda3/envs/nlu/lib/python3.8/site-packages (from nltk) (2021.4.4)\n",
      "Requirement already satisfied: joblib in /Applications/miniconda3/envs/nlu/lib/python3.8/site-packages (from nltk) (1.0.1)\n",
      "Requirement already satisfied: tqdm in /Applications/miniconda3/envs/nlu/lib/python3.8/site-packages (from nltk) (4.59.0)\n"
     ]
    }
   ],
   "source": [
    "\"\"\"\n",
    "Tokenizer approach overview:\n",
    "DEL: ADD MORE\n",
    "- Handle casing\n",
    "- Remove word endings (-er, -est, -ish) as described in Monroe 2017.\n",
    "- To better align tokens and word representations, we want tokens\n",
    "  that are similar to GloVe's. \n",
    "- More complex tokenization schemes are likely not needed, since\n",
    "  it appears that comparatively simple words are used.\n",
    "\"\"\"\n",
    "!pip install -U nltk\n",
    "\n",
    "from nltk.parse import CoreNLPParser\n",
    "from transformers import BertModel, BertTokenizer\n",
    "\n",
    "# DEL: Original\n",
    "def tokenize_example_orig(s):\n",
    "    return [START_SYMBOL] + s.split() + [END_SYMBOL]\n",
    "\n",
    "bert_tok = BertTokenizer.from_pretrained('bert-base-uncased')\n",
    "def tokenize_example(s):\n",
    "    #s = s.lower()\n",
    "    return [START_SYMBOL] + bert_tok.tokenize(s) + [END_SYMBOL]\n",
    "    \"\"\"\n",
    "    # Stanford's tokenizer, which is also used for GloVe.\n",
    "    # Assumes the server is set-up and running.\n",
    "    parser = CoreNLPParser(url='http://localhost:9000')\n",
    "    words = list(bert_tok.tokenize(s))\n",
    "    #words = list(parser.tokenize(s))\n",
    "    segments = []\n",
    "    i = 0\n",
    "    for word in words:\n",
    "        ending_len = 0\n",
    "        if word.endswith('er'):\n",
    "            ending_len = -2\n",
    "        elif word.endswith('est') or word.endswith('ish'):\n",
    "            ending_len = -3\n",
    "        segments.extend([word] if ending_len == 0 else [word[:ending_len], word[ending_len:]])\n",
    "    \n",
    "    return [START_SYMBOL] + [s for s in segments] + [END_SYMBOL]\n",
    "    \"\"\" \n",
    "        "
   ]
  },
  {
   "cell_type": "code",
   "execution_count": 98,
   "metadata": {},
   "outputs": [
    {
     "name": "stdout",
     "output_type": "stream",
     "text": [
      "['<s>', 'aqua,', 'teal', '</s>']\n",
      "['<s>', 'foo', '#', '#', '#', 'bar', 'as', '##df', '!', '?', '</s>']\n",
      "['<s>', 'greene', '##st', 'of', 'the', 'greenish', 'green', '</s>']\n",
      "['<s>', 'aqua', ',', 'tea', '##l', '</s>']\n"
     ]
    }
   ],
   "source": [
    "# DEL:\n",
    "print(tokenize_example_orig(dev_texts_train[376]))\n",
    "print(tokenize_example(\"Foo ### bar ASDF!?\"))\n",
    "print(tokenize_example(\"Greenest of the greenish green\"))\n",
    "# NEW:\n",
    "print(tokenize_example(dev_texts_train[376]))"
   ]
  },
  {
   "cell_type": "markdown",
   "metadata": {},
   "source": [
    "__Your task__: Modify `tokenize_example` so that it does something more sophisticated with the input text. \n",
    "\n",
    "__Notes__:\n",
    "\n",
    "* There are useful ideas for this in [Monroe et al. 2017](https://transacl.org/ojs/index.php/tacl/article/view/1142)\n",
    "* There is no requirement that you do word-level tokenization. Sub-word and multi-word are options.\n",
    "* This question can interact with the size of your vocabulary (see just below), and in turn with decisions about how to use `UNK_SYMBOL`.\n",
    "\n",
    "__Important__: don't forget to add the start and end symbols, else the resulting models will definitely be terrible! The following test will check that your tokenizer has this property:"
   ]
  },
  {
   "cell_type": "code",
   "execution_count": 12,
   "metadata": {},
   "outputs": [],
   "source": [
    "def test_tokenize_example(func):\n",
    "    s = \"A test string\"\n",
    "    result = func(s)\n",
    "    assert all(isinstance(tok, str) for tok in result), \\\n",
    "        \"The tokenizer must return a list of strings.\"\n",
    "    assert result[0] == START_SYMBOL, \\\n",
    "        \"The tokenizer must add START_SYMBOL as the first token.\"\n",
    "    assert result[-1] == END_SYMBOL, \\\n",
    "        \"The tokenizer must add END_SYMBOL as the final token.\""
   ]
  },
  {
   "cell_type": "code",
   "execution_count": 32,
   "metadata": {},
   "outputs": [],
   "source": [
    "if 'IS_GRADESCOPE_ENV' not in os.environ:\n",
    "    test_tokenize_example(tokenize_example)"
   ]
  },
  {
   "cell_type": "markdown",
   "metadata": {},
   "source": [
    "## Use the tokenizer"
   ]
  },
  {
   "cell_type": "markdown",
   "metadata": {},
   "source": [
    "Once the tokenizer is working, run the following cell to tokenize your inputs:"
   ]
  },
  {
   "cell_type": "code",
   "execution_count": 191,
   "metadata": {},
   "outputs": [
    {
     "data": {
      "text/plain": [
       "'\\n\\n# DEL:\\nprint(len(dev_texts_train))\\ni = 0\\ndev_seqs_train = []\\nfor s in dev_texts_train:\\n    if i % 10 == 0:\\n        print(\"{0}/{1}: {2}\".format(i, len(dev_texts_train), s))\\n    dev_seqs_train.append(tokenize_example(s)) \\n    i += 1\\n   \\ni = 0\\ndev_seqs_test = []\\nfor s in dev_texts_test:\\n    if i % 10 == 0:\\n        print(\"{0}/{1}: {2}\".format(i, len(dev_texts_test), s))\\n    i += 1\\n    dev_seqs_test.append(tokenize_example(s)) \\ni = 0\\n'"
      ]
     },
     "execution_count": 191,
     "metadata": {},
     "output_type": "execute_result"
    }
   ],
   "source": [
    "\n",
    "dev_seqs_train = [tokenize_example(s) for s in dev_texts_train]\n",
    "\n",
    "dev_seqs_test = [tokenize_example(s) for s in dev_texts_test]\n",
    "\"\"\"\n",
    "\n",
    "# DEL:\n",
    "print(len(dev_texts_train))\n",
    "i = 0\n",
    "dev_seqs_train = []\n",
    "for s in dev_texts_train:\n",
    "    if i % 10 == 0:\n",
    "        print(\"{0}/{1}: {2}\".format(i, len(dev_texts_train), s))\n",
    "    dev_seqs_train.append(tokenize_example(s)) \n",
    "    i += 1\n",
    "   \n",
    "i = 0\n",
    "dev_seqs_test = []\n",
    "for s in dev_texts_test:\n",
    "    if i % 10 == 0:\n",
    "        print(\"{0}/{1}: {2}\".format(i, len(dev_texts_test), s))\n",
    "    i += 1\n",
    "    dev_seqs_test.append(tokenize_example(s)) \n",
    "i = 0\n",
    "\"\"\""
   ]
  },
  {
   "cell_type": "markdown",
   "metadata": {},
   "source": [
    "We use only the train set to derive a vocabulary for the model:"
   ]
  },
  {
   "cell_type": "code",
   "execution_count": 193,
   "metadata": {},
   "outputs": [],
   "source": [
    "dev_vocab = sorted({w for toks in dev_seqs_train for w in toks})\n",
    "\n",
    "dev_vocab += [UNK_SYMBOL]"
   ]
  },
  {
   "cell_type": "markdown",
   "metadata": {},
   "source": [
    "It's important that the `UNK_SYMBOL` is included somewhere in this list. In test examples, words not seen in training will be mapped to `UNK_SYMBOL`. \n",
    "\n",
    "Conceptual note: If you model's vocab is the same as your train vocab, then `UNK_SYMBOL` will never be encountered during training, so it will be a random vector at test time."
   ]
  },
  {
   "cell_type": "code",
   "execution_count": 31,
   "metadata": {},
   "outputs": [
    {
     "data": {
      "text/plain": [
       "924"
      ]
     },
     "execution_count": 31,
     "metadata": {},
     "output_type": "execute_result"
    }
   ],
   "source": [
    "len(dev_vocab)"
   ]
  },
  {
   "cell_type": "markdown",
   "metadata": {},
   "source": [
    "## Question 2: Improve the color representations [1 point]\n",
    "\n",
    "This is the second required pipeline improvement for the assignment. \n",
    "\n",
    "The following functions do nothing at all to the raw input colors we get from the corpus. "
   ]
  },
  {
   "cell_type": "code",
   "execution_count": 194,
   "metadata": {},
   "outputs": [],
   "source": [
    "def represent_color_context(colors):\n",
    "    # Improve me!\n",
    "    # DEL: TODO\n",
    "    colors = np.array(colors)\n",
    "    target = colors[-1]\n",
    "    colors = [target - colors[0], target - colors[1], target]\n",
    "    return [represent_color(color) for color in colors]\n",
    "\n",
    "\n",
    "def represent_color(color):\n",
    "    # HLS to HSV - 0-indexed from L to R.\n",
    "    h = color[0]  # Stays the same.\n",
    "    sat_hls = color[1]\n",
    "    light = color[2]\n",
    "    \n",
    "    sat_tmp = sat_hls * (light if light < 0.5 else 1.0 - light)\n",
    "    v = light + sat_tmp\n",
    "    s = 2.0 * sat_tmp / v if v > 0 else 0\n",
    "    \n",
    "    # Fourier transform, as per Monroe et al. in \n",
    "    # \"Learning to Generate Compositional Color Descriptions\"\n",
    "    # HSV are already normalized to 1.0.\n",
    "    f_hat_re = []\n",
    "    f_hat_im = []\n",
    "    for j in range(3):\n",
    "        for k in range(3):\n",
    "            for l in range(3):\n",
    "                f_jkl = np.exp(-2j * np.pi * (j * h + k * s + l * v))\n",
    "                f_hat_re.append(f_jkl.real)\n",
    "                f_hat_im.append(f_jkl.imag)\n",
    "    return f_hat_re + f_hat_im"
   ]
  },
  {
   "cell_type": "code",
   "execution_count": 36,
   "metadata": {},
   "outputs": [
    {
     "name": "stdout",
     "output_type": "stream",
     "text": [
      "[[0.19444444444444445, 0.5, 0.11], [0.7472222222222222, 0.5, 0.27], [0.2722222222222222, 0.5, 0.73]]\n",
      "3\n",
      "54\n"
     ]
    }
   ],
   "source": [
    "represent_color_context(dev_rawcols_train[0])\n",
    "# DEL:\n",
    "print(dev_rawcols_train[0])\n",
    "print(len(represent_color_context(dev_rawcols_train[0])))\n",
    "print(len(represent_color_context(dev_rawcols_train[0])[0]))"
   ]
  },
  {
   "cell_type": "markdown",
   "metadata": {},
   "source": [
    "__Your task__: Modify `represent_color_context` and/or `represent_color` to represent colors in a new way.\n",
    "    \n",
    "__Notes__:\n",
    "\n",
    "* You are not required to keep `represent_color`. This might be unnatural if you want to perform an operation on each color trio all at once.\n",
    "* For that matter, if you want to process all of the color contexts in the entire data set all at once, that is fine too, as long as you can also perform the operation at test time with an unknown number of examples being tested.\n",
    "\n",
    "* The Fourier-transform method of [Monroe et al. 2016](https://www.aclweb.org/anthology/D16-1243/) and [Monroe et al. 2017](https://transacl.org/ojs/index.php/tacl/article/view/1142) is a proven choice for our task. __It is not required that you implement this.__ However, if you decide to, you might find that the overly terse presentation in the paper is an obstacle. They key thing to see is that the notation $\\hat{f}_{jkl}$ is meant to specify a full coordinate system. Thus, you might do something like\n",
    "\n",
    "  ```\n",
    "from itertools import product\n",
    "for j, k, l in product((0, 1, 2), repeat=3):    \n",
    "    f_jkl = ...\n",
    "```\n",
    "\n",
    "  and collect these `f_jkl` values in a list of 27 values. Additionally, in Python, [`2j` produces a value with `real` and `imag` attributes](https://docs.python.org/3.7/library/cmath.html). Each element `f_jkl` should have these components. If you concatenate the `real` and `imag` parts of all the `f_jkl`, you will have a 54-dimensional representation, as in the paper. Remember to start with an HSV representation, and with $h$ in $[0, 360]$, $s$ in $[0, 200]$, and $v$ in $[0, 200]$ (or else do the scaling differently). Note that the values in our corpus are in HLS format, [which are easily converted to HSV](https://en.wikipedia.org/wiki/HSL_and_HSV#HSV_to_HSL).\n",
    "  \n",
    "* It's natural to ask why this Fourier transform is useful in the current context. This is a challenging question, and I don't have a complete answer, but here is an intuitive observation: if you consider the raw color representations to be embeddings, then you can see very quickly that our standard geometric notions are totally out of line with our intuitions about the colors themselves. For example, here is a plot where we simply vary the hue dimension while keeping the other dimensions constant:\n",
    "\n",
    "  <img src=\"fig/colors-hue-hls.png\" alt=\"A series of very different colors with cosine distances from orange ranging from 0 to 0.19\" />\n",
    "\n",
    "  I've printed the cosine distances from the leftmost color above each patch. They all look pretty similar. Now, you might say, well at least the distances are sort of proportional to how different the colors are from the first. However, that argument seems to crumble when we do the same experiment but now varying the saturation dimension:\n",
    "\n",
    "  <img src=\"fig/colors-saturation-hls.png\" alt=\"A series of very similar purple-ish colors with cosine distances from gray-purple ranging from 0 to 0.19\" />\n",
    "\n",
    "  These colors are all quite simular intuitively. Notice, though, that the cosine distances are identical to my first plot. Of course! Cosine distances doesn't care about the nature of these dimensions! The underlying color space is a cylinder, not a regular Euclidean 3d space!\n",
    "  \n",
    "  The Fourier transformation that we apply is remapping the colors into approximately the cylindrical space that we want. It is at least capturing some the circular/radial relationships that are inherent in the space. Thus, here are plots corresponding to the above, but now where the colors have been transformed for the cosine comparisons. \n",
    "  \n",
    "  First, the hue variation:\n",
    "  \n",
    "  <img src=\"fig/colors-hue-fourier.png\" alt=\"A series of very different colors with cosine distances from orange that are generally large (near 1.0)\" />\n",
    "\n",
    "  And then saturation:\n",
    "  \n",
    "  <img src=\"fig/colors-saturation-fourier.png\" alt=\"A series of very similar purple-ish colors with cosine distances from gray purple that seem aligned with visual color similarity\" />\n",
    "  \n",
    "  These distances seem much better aligned with intuitions to me, and I think that's quite general. Thus, even if our networks can in principle learn this remapping, it's very helpful to at least start them closer to where we want them to be.\n",
    "  \n",
    "  If you want to go one layer deeper, then the [Zhang and Lu 2002](https://www.sciencedirect.com/science/article/pii/S092359650200084X) paper that Monroe et al. 2016 cite is pretty intuitive. It's for the 2d case, but that actually makes the ideas somewhere more accessible, since they can easily plot the original and remapped feature spaces."
   ]
  },
  {
   "cell_type": "markdown",
   "metadata": {},
   "source": [
    "The following test seeks to ensure only that the output of your `represent_color_context` will be compatible with the models we are creating:"
   ]
  },
  {
   "cell_type": "code",
   "execution_count": 145,
   "metadata": {},
   "outputs": [],
   "source": [
    "def test_represent_color_context(func):\n",
    "    \"\"\"`func` should be `represent_color_context`\"\"\"\n",
    "    example = [\n",
    "        [0.786, 0.58, 0.87],\n",
    "        [0.689, 0.44, 0.92],\n",
    "        [0.628, 0.32, 0.81]]\n",
    "    result = func(example)\n",
    "    assert len(result) == len(example), \\\n",
    "        (\"Color context representations need to represent each color \"\n",
    "         \"separately. (We assume the final color is the target.)\")\n",
    "    for i, color in enumerate(result):\n",
    "        assert all(isinstance(x, float) for x in color), \\\n",
    "            (\"All color representations should be lists of floats. \"\n",
    "             \"Color {} is {}\".format(i, color))"
   ]
  },
  {
   "cell_type": "code",
   "execution_count": 42,
   "metadata": {},
   "outputs": [],
   "source": [
    "if 'IS_GRADESCOPE_ENV' not in os.environ:\n",
    "    test_represent_color_context(represent_color_context)"
   ]
  },
  {
   "cell_type": "markdown",
   "metadata": {},
   "source": [
    "## Use the color representer"
   ]
  },
  {
   "cell_type": "markdown",
   "metadata": {},
   "source": [
    "The following cell just runs your `represent_color_context` on the train and test sets:"
   ]
  },
  {
   "cell_type": "code",
   "execution_count": 195,
   "metadata": {},
   "outputs": [],
   "source": [
    "dev_cols_train = [represent_color_context(colors) for colors in dev_rawcols_train]\n",
    "\n",
    "dev_cols_test = [represent_color_context(colors) for colors in dev_rawcols_test]"
   ]
  },
  {
   "cell_type": "markdown",
   "metadata": {},
   "source": [
    "At this point, our preprocessing steps are complete, and we can fit a first model."
   ]
  },
  {
   "cell_type": "markdown",
   "metadata": {},
   "source": [
    "## Initial model\n",
    "\n",
    "The first model is configured right now to be a small model run for just a few iterations. It should be enough to get traction, but it's unlikely to be a great model. You are free to modify this configuration if you wish; it is here just for demonstration and testing:"
   ]
  },
  {
   "cell_type": "code",
   "execution_count": 196,
   "metadata": {},
   "outputs": [],
   "source": [
    "dev_mod = ContextualColorDescriber(\n",
    "    dev_vocab,\n",
    "    early_stopping=True)"
   ]
  },
  {
   "cell_type": "code",
   "execution_count": 197,
   "metadata": {},
   "outputs": [
    {
     "name": "stderr",
     "output_type": "stream",
     "text": [
      "/Users/miraleung/scu/xcs224u/hw/cs224u/torch_color_describer.py:680: RuntimeWarning: divide by zero encountered in power\n",
      "  perp = [np.prod(s)**(-1/len(s)) for s in scores]\n",
      "Finished epoch 1 of 1000; error is 67.94107341766357/Users/miraleung/scu/xcs224u/hw/cs224u/torch_color_describer.py:680: RuntimeWarning: divide by zero encountered in power\n",
      "  perp = [np.prod(s)**(-1/len(s)) for s in scores]\n",
      "Finished epoch 2 of 1000; error is 66.17325782775879/Users/miraleung/scu/xcs224u/hw/cs224u/torch_color_describer.py:680: RuntimeWarning: divide by zero encountered in power\n",
      "  perp = [np.prod(s)**(-1/len(s)) for s in scores]\n",
      "Stopping after epoch 15. Validation score did not improve by tol=1e-05 for more than 10 epochs. Final error is 52.98034334182739"
     ]
    },
    {
     "name": "stdout",
     "output_type": "stream",
     "text": [
      "CPU times: user 2min 22s, sys: 42 s, total: 3min 4s\n",
      "Wall time: 1min 15s\n"
     ]
    }
   ],
   "source": [
    "if 'IS_GRADESCOPE_ENV' not in os.environ:\n",
    "    %time _ = dev_mod.fit(dev_cols_train, dev_seqs_train)\n",
    "else:\n",
    "    dev_mod.fit(dev_cols_train, dev_seqs_train)"
   ]
  },
  {
   "cell_type": "markdown",
   "metadata": {},
   "source": [
    "The canonical bake-off evaluation function is `evaluate`. Our primary metric is `listener_accuracy`; the BLEU score is included as a check to ensure that your system is speaking English!"
   ]
  },
  {
   "cell_type": "code",
   "execution_count": 198,
   "metadata": {},
   "outputs": [],
   "source": [
    "evaluation = dev_mod.evaluate(dev_cols_test, dev_seqs_test)"
   ]
  },
  {
   "cell_type": "code",
   "execution_count": 79,
   "metadata": {},
   "outputs": [
    {
     "data": {
      "text/plain": [
       "dict_keys(['listener_accuracy', 'corpus_bleu', 'target_index', 'predicted_index', 'predicted_utterance'])"
      ]
     },
     "execution_count": 79,
     "metadata": {},
     "output_type": "execute_result"
    }
   ],
   "source": [
    "evaluation.keys()"
   ]
  },
  {
   "cell_type": "code",
   "execution_count": 199,
   "metadata": {},
   "outputs": [
    {
     "data": {
      "text/plain": [
       "0.704290238986467"
      ]
     },
     "execution_count": 199,
     "metadata": {},
     "output_type": "execute_result"
    }
   ],
   "source": [
    "evaluation['listener_accuracy']"
   ]
  },
  {
   "cell_type": "code",
   "execution_count": 29,
   "metadata": {},
   "outputs": [
    {
     "data": {
      "text/plain": [
       "0.7849121796717535"
      ]
     },
     "execution_count": 29,
     "metadata": {},
     "output_type": "execute_result"
    }
   ],
   "source": [
    "dev_mod.listener_accuracy(dev_cols_test, dev_seqs_test)"
   ]
  },
  {
   "cell_type": "code",
   "execution_count": 230,
   "metadata": {},
   "outputs": [
    {
     "data": {
      "text/plain": [
       "0.2766748802438902"
      ]
     },
     "execution_count": 230,
     "metadata": {},
     "output_type": "execute_result"
    }
   ],
   "source": [
    "evaluation['corpus_bleu']"
   ]
  },
  {
   "cell_type": "code",
   "execution_count": 229,
   "metadata": {},
   "outputs": [
    {
     "data": {
      "text/plain": [
       "0.07809143394199784"
      ]
     },
     "execution_count": 229,
     "metadata": {},
     "output_type": "execute_result"
    }
   ],
   "source": [
    "bleu, predicted_utterances = dev_mod.corpus_bleu(dev_cols_test, dev_seqs_test)\n",
    "\n",
    "bleu"
   ]
  },
  {
   "cell_type": "code",
   "execution_count": 32,
   "metadata": {},
   "outputs": [
    {
     "data": {
      "text/plain": [
       "[2, 2, 2, 2, 2]"
      ]
     },
     "execution_count": 32,
     "metadata": {},
     "output_type": "execute_result"
    }
   ],
   "source": [
    "evaluation['target_index'][: 5]"
   ]
  },
  {
   "cell_type": "code",
   "execution_count": 33,
   "metadata": {},
   "outputs": [
    {
     "data": {
      "text/plain": [
       "[2, 2, 2, 2, 2]"
      ]
     },
     "execution_count": 33,
     "metadata": {},
     "output_type": "execute_result"
    }
   ],
   "source": [
    "evaluation['predicted_index'][: 5]"
   ]
  },
  {
   "cell_type": "code",
   "execution_count": 34,
   "metadata": {},
   "outputs": [
    {
     "data": {
      "text/plain": [
       "[['<s>', 'dull', 'green', '</s>'],\n",
       " ['<s>', 'green', 'ish', 'yellow', '</s>'],\n",
       " ['<s>', 'dark', 'blue', '</s>'],\n",
       " ['<s>', 'yellow', 'green', '</s>'],\n",
       " ['<s>', 'dark', 'purple', '</s>']]"
      ]
     },
     "execution_count": 34,
     "metadata": {},
     "output_type": "execute_result"
    }
   ],
   "source": [
    "evaluation['predicted_utterance'][: 5]"
   ]
  },
  {
   "cell_type": "markdown",
   "metadata": {},
   "source": [
    "We can also see the model's predicted sequences given color context inputs:"
   ]
  },
  {
   "cell_type": "code",
   "execution_count": 35,
   "metadata": {},
   "outputs": [
    {
     "data": {
      "text/plain": [
       "[['<s>', 'dull', 'green', '</s>']]"
      ]
     },
     "execution_count": 35,
     "metadata": {},
     "output_type": "execute_result"
    }
   ],
   "source": [
    "dev_mod.predict(dev_cols_test[: 1])"
   ]
  },
  {
   "cell_type": "code",
   "execution_count": 36,
   "metadata": {},
   "outputs": [
    {
     "data": {
      "text/plain": [
       "[['<s>', 'green', 'ish', 'brown', '</s>']]"
      ]
     },
     "execution_count": 36,
     "metadata": {},
     "output_type": "execute_result"
    }
   ],
   "source": [
    "dev_seqs_test[: 1]"
   ]
  },
  {
   "cell_type": "markdown",
   "metadata": {},
   "source": [
    "## Question 3: GloVe embeddings [1 point]\n",
    "\n",
    "The above model uses a random initial embedding, as configured by the decoder used by `ContextualColorDescriber`. This homework question asks you to consider using GloVe inputs. \n",
    "\n",
    "__Your task__: Complete `create_glove_embedding` so that it creates a GloVe embedding based on your model vocabulary. This isn't mean to be analytically challenging, but rather just to create a basis for you to try out other kinds of rich initialization."
   ]
  },
  {
   "cell_type": "code",
   "execution_count": 200,
   "metadata": {},
   "outputs": [],
   "source": [
    "GLOVE_HOME = os.path.join('data', 'glove.6B')"
   ]
  },
  {
   "cell_type": "code",
   "execution_count": 201,
   "metadata": {},
   "outputs": [],
   "source": [
    "def create_glove_embedding(vocab, glove_base_filename='glove.6B.50d.txt'):\n",
    "    pass\n",
    "    # Use `utils.glove2dict` to read in the GloVe file:\n",
    "    d = utils.glove2dict(os.path.join(GLOVE_HOME, glove_base_filename))\n",
    "\n",
    "    # Use `utils.create_pretrained_embedding` to create the embedding.\n",
    "    # This function will, by default, ensure that START_TOKEN,\n",
    "    # END_TOKEN, and UNK_TOKEN are included in the embedding.\n",
    "\n",
    "    # Be sure to return the embedding you create as well as the\n",
    "    # vocabulary returned by `utils.create_pretrained_embedding`,\n",
    "    # which is likely to have been modified from the input `vocab`.\n",
    "    return utils.create_pretrained_embedding(d, vocab)"
   ]
  },
  {
   "cell_type": "code",
   "execution_count": 202,
   "metadata": {},
   "outputs": [],
   "source": [
    "def test_create_glove_embedding(func):\n",
    "    vocab = ['NLU', 'is', 'the', 'future', '.', '$UNK', '<s>', '</s>']\n",
    "    glove_embedding, glove_vocab = func(vocab, 'glove.6B.50d.txt')\n",
    "    assert isinstance(glove_embedding, np.ndarray), \\\n",
    "        \"Expected embedding type {}; got {}\".format(\n",
    "        glove_embedding.__class__.__name__, glove_embedding.__class__.__name__)\n",
    "    assert glove_embedding.shape == (8, 50), \\\n",
    "        \"Expected embedding shape (8, 50); got {}\".format(glove_embedding.shape)\n",
    "    assert glove_vocab == vocab, \\\n",
    "        \"Expected vocab {}; got {}\".format(vocab, glove_vocab)"
   ]
  },
  {
   "cell_type": "code",
   "execution_count": 51,
   "metadata": {},
   "outputs": [],
   "source": [
    "if 'IS_GRADESCOPE_ENV' not in os.environ:\n",
    "    test_create_glove_embedding(create_glove_embedding)"
   ]
  },
  {
   "cell_type": "markdown",
   "metadata": {},
   "source": [
    "## Try the GloVe representations"
   ]
  },
  {
   "cell_type": "markdown",
   "metadata": {},
   "source": [
    "The extent to which GloVe is useful will depend heavily on how aligned your tokenization scheme is with the GloVe vocabulary. For example, if you did character-level tokenization, then the GloVe embedding space is not well-aligned with your tokenizer and using GloVe should have little no positive effect."
   ]
  },
  {
   "cell_type": "markdown",
   "metadata": {},
   "source": [
    "Let's see if GloVe helped for our development data:"
   ]
  },
  {
   "cell_type": "code",
   "execution_count": 204,
   "metadata": {},
   "outputs": [],
   "source": [
    "dev_glove_embedding, dev_glove_vocab = create_glove_embedding(dev_vocab)"
   ]
  },
  {
   "cell_type": "code",
   "execution_count": 40,
   "metadata": {},
   "outputs": [
    {
     "data": {
      "text/plain": [
       "1180"
      ]
     },
     "execution_count": 40,
     "metadata": {},
     "output_type": "execute_result"
    }
   ],
   "source": [
    "len(dev_vocab)"
   ]
  },
  {
   "cell_type": "code",
   "execution_count": 41,
   "metadata": {},
   "outputs": [
    {
     "data": {
      "text/plain": [
       "1180"
      ]
     },
     "execution_count": 41,
     "metadata": {},
     "output_type": "execute_result"
    }
   ],
   "source": [
    "len(dev_glove_vocab)"
   ]
  },
  {
   "cell_type": "code",
   "execution_count": 205,
   "metadata": {},
   "outputs": [],
   "source": [
    "dev_mod_glove = ContextualColorDescriber(\n",
    "    dev_glove_vocab,\n",
    "    embedding=dev_glove_embedding,\n",
    "    early_stopping=True)"
   ]
  },
  {
   "cell_type": "code",
   "execution_count": 206,
   "metadata": {},
   "outputs": [
    {
     "name": "stderr",
     "output_type": "stream",
     "text": [
      "Stopping after epoch 15. Validation score did not improve by tol=1e-05 for more than 10 epochs. Final error is 53.71348333358765"
     ]
    }
   ],
   "source": [
    "_ = dev_mod_glove.fit(dev_cols_train, dev_seqs_train)"
   ]
  },
  {
   "cell_type": "code",
   "execution_count": 207,
   "metadata": {},
   "outputs": [
    {
     "data": {
      "text/plain": [
       "0.7797293406276994"
      ]
     },
     "execution_count": 207,
     "metadata": {},
     "output_type": "execute_result"
    }
   ],
   "source": [
    "dev_mod_glove.listener_accuracy(dev_cols_test, dev_seqs_test)"
   ]
  },
  {
   "cell_type": "markdown",
   "metadata": {},
   "source": [
    "You probably saw a small boost, assuming your tokeization scheme leads to good overlap with the GloVe vocabulary. The input representations are larger than in our previous model (at least as I configured things), so we would need to do more runs with higher `max_iter` values to see whether this is worthwhile overall."
   ]
  },
  {
   "cell_type": "markdown",
   "metadata": {},
   "source": [
    "## Question 4: Color context [3 points]\n",
    "\n",
    "The final required homework question is the most challenging, but it should set you up to think in much more flexible ways about the underlying model we're using.\n",
    "\n",
    "The question asks you to modify various model components in `torch_color_describer.py`. The section called [Modifying the core model](colors_overview.ipynb#Modifying-the-core-model) from the core unit notebook provides a number of examples illustrating the basic techniques, so you might review that material if you get stuck here.\n",
    "\n",
    "__Your task__: Building on ideas from [Monroe et al. 2017](https://transacl.org/ojs/index.php/tacl/article/view/1142), you will redesign the model so that the target color (the final one in the context) is appended to each input token that gets processed by the decoder. The question asks you to subclass the `Decoder` and `EncoderDecoder` from `torch_color_describer.py` so that you can build models that do this."
   ]
  },
  {
   "cell_type": "markdown",
   "metadata": {},
   "source": [
    "__Step 1__: Modify the `Decoder` so that the input vector to the model at each timestep is not just a token representation `x` but the concatenation of `x` with the representation of the target color.\n",
    "\n",
    "__Notes__:\n",
    "\n",
    "* You might notice at this point that the original `Decoder.forward` method has an optional keyword argument `target_colors` that is passed to `Decoder.get_embeddings`. Because this is already in place, all you have to do is modify the `get_embeddings` method to use this argument.\n",
    "\n",
    "* The change affects the configuration of `self.rnn`, so you need to subclass the `__init__` method as well, so that its `input_size` argument accomodates the embedding as well as the color representations.\n",
    "\n",
    "* You can do the relevant operations efficiently in pure PyTorch using `repeat_interleave` and `cat`, but the important thing is to get a working implementation – you can always optimize the code later if the ideas prove useful to you. \n",
    "\n",
    "Here's skeleton code for you to flesh out:"
   ]
  },
  {
   "cell_type": "code",
   "execution_count": 208,
   "metadata": {},
   "outputs": [],
   "source": [
    "from torch_color_describer import Decoder\n",
    "import torch\n",
    "import torch.nn as nn\n",
    "\n",
    "\n",
    "class ColorContextDecoder(Decoder):\n",
    "    def __init__(self, color_dim, *args, **kwargs):\n",
    "        self.color_dim = color_dim\n",
    "        super().__init__(*args, **kwargs)\n",
    "\n",
    "        # Fix the `self.rnn` attribute.\n",
    "        self.rnn = nn.GRU(\n",
    "            input_size=self.embed_dim + self.color_dim,\n",
    "            hidden_size=self.hidden_dim,\n",
    "            batch_first=True)\n",
    "\n",
    "\n",
    "    def get_embeddings(self, word_seqs, target_colors=None):\n",
    "        \"\"\"\n",
    "        You can assume that `target_colors` is a tensor of shape\n",
    "        (m, n), where m is the length of the batch (same as\n",
    "        `word_seqs.shape[0]`) and n is the dimensionality of the\n",
    "        color representations the model is using. The goal is\n",
    "        to attached each color vector i to each of the tokens in\n",
    "        the ith sequence of (the embedded version of) `word_seqs`.\n",
    "        \"\"\"\n",
    "        _, num_repeated = word_seqs.shape\n",
    "        colors_repeated = torch.repeat_interleave(target_colors, num_repeated, dim=0)\n",
    "        return torch.cat((\n",
    "            self.embedding(word_seqs),\n",
    "            torch.reshape(colors_repeated, (target_colors.shape[0], num_repeated, target_colors.shape[1]))),\n",
    "            2)\n"
   ]
  },
  {
   "cell_type": "markdown",
   "metadata": {},
   "source": [
    "Step 1 is the most demanding of the steps in terms of tensor wrangling. It's important to have a clear idea of what you are trying to achieve and to unit test `get_embeddings` so that you can check that it has realized your vision. The following test should help with that:"
   ]
  },
  {
   "cell_type": "code",
   "execution_count": 183,
   "metadata": {},
   "outputs": [],
   "source": [
    "def test_get_embeddings(decoder_class):\n",
    "    \"\"\"\n",
    "    It's assumed that the input to this will be `ColorContextDecoder`.\n",
    "    You pass in the class, and the function initalizes it with the test\n",
    "    parameters.\n",
    "    \"\"\"\n",
    "    dec = decoder_class(\n",
    "        color_dim=3,   # For these, we mainly want *different*\n",
    "        vocab_size=10, # dimensions so that we reliably get\n",
    "        embed_dim=4,   # dimensionality errors if something\n",
    "        hidden_dim=5)  # isn't working.\n",
    "\n",
    "    # This step just changes the embedding to one with values\n",
    "    # that are easy to inspect and definitely will not change\n",
    "    # between runs:\n",
    "    dec.embedding = nn.Embedding.from_pretrained(\n",
    "        torch.FloatTensor([\n",
    "            [10, 11, 12, 13],\n",
    "            [14, 15, 16, 17],\n",
    "            [18, 19, 20, 21]]))\n",
    "\n",
    "    # These are the incoming sequences -- lists of indices\n",
    "    # into the rows of `dec.embedding`:\n",
    "    word_seqs = torch.tensor([\n",
    "        [0,1,2],\n",
    "        [2,0,1]])\n",
    "\n",
    "    # Target colors as small floats that will be easy to track:\n",
    "    target_colors = torch.tensor([\n",
    "        [0.1, 0.2, 0.3],\n",
    "        [0.7, 0.8, 0.9]])\n",
    "\n",
    "    # The desired return value: one list of tensors for each of\n",
    "    # the two sequences in `word_seqs`. Each index is replaced\n",
    "    # with its vector from `dec.embedding` and has the\n",
    "    # corrresponding color from `target_colors` appended to it.\n",
    "    expected = torch.tensor([\n",
    "        [[10., 11., 12., 13.,  0.1,  0.2,  0.3],\n",
    "         [14., 15., 16., 17.,  0.1,  0.2,  0.3],\n",
    "         [18., 19., 20., 21.,  0.1,  0.2,  0.3]],\n",
    "\n",
    "        [[18., 19., 20., 21.,  0.7,  0.8,  0.9],\n",
    "         [10., 11., 12., 13.,  0.7,  0.8,  0.9],\n",
    "         [14., 15., 16., 17.,  0.7,  0.8,  0.9]]])\n",
    "\n",
    "    result = dec.get_embeddings(word_seqs, target_colors=target_colors)\n",
    "\n",
    "    assert expected.shape == result.shape, \\\n",
    "        \"Expected shape {}; got shape {}\".format(expected.shape, result.shape)\n",
    "\n",
    "    assert torch.all(expected.eq(result)), \\\n",
    "        (\"Your result has the desired shape but the values aren't correct. \"\n",
    "         \"Here's what your function creates; compare it with `expected` \"\n",
    "         \"from the test:\\n{}\".format(result))"
   ]
  },
  {
   "cell_type": "code",
   "execution_count": 45,
   "metadata": {},
   "outputs": [],
   "source": [
    "if 'IS_GRADESCOPE_ENV' not in os.environ:\n",
    "    test_get_embeddings(ColorContextDecoder)"
   ]
  },
  {
   "cell_type": "markdown",
   "metadata": {},
   "source": [
    "__Step 2__: Modify the `EncoderDecoder`. For this, you just need to make a small change to the `forward` method: extract the target colors from `color_seqs` and feed them to the decoder."
   ]
  },
  {
   "cell_type": "code",
   "execution_count": 209,
   "metadata": {},
   "outputs": [],
   "source": [
    "from torch_color_describer import EncoderDecoder\n",
    "\n",
    "class ColorizedEncoderDecoder(EncoderDecoder):\n",
    "\n",
    "    def forward(self,\n",
    "            color_seqs,\n",
    "            word_seqs,\n",
    "            seq_lengths=None,\n",
    "            hidden=None,\n",
    "            targets=None):\n",
    "        if hidden is None:\n",
    "            hidden = self.encoder(color_seqs)\n",
    "\n",
    "        # Extract the target colors from `color_seqs` and\n",
    "        # feed them to the decoder, which already has a\n",
    "        # `target_colors` keyword.\n",
    "        num_contexts = color_seqs.shape[1]\n",
    "        target_colors = color_seqs[:, num_contexts - 1, :]\n",
    "        output, hidden = self.decoder(\n",
    "            word_seqs,\n",
    "            seq_lengths=seq_lengths,\n",
    "            hidden=hidden,\n",
    "            target_colors=target_colors)\n",
    "\n",
    "        # Your decoder will return `output, hidden` pairs; the\n",
    "        # following will handle the two return situations that\n",
    "        # the code needs to consider -- training and prediction.\n",
    "        if self.training:\n",
    "            return output\n",
    "        else:\n",
    "            return output, hidden"
   ]
  },
  {
   "cell_type": "markdown",
   "metadata": {},
   "source": [
    "__Step 3__: Finally, as in the examples in [Modifying the core model](colors_overview.ipynb#Modifying-the-core-model), you need to modify the `build_graph` method of `ContextualColorDescriber` so that it uses your new `ColorContextDecoder` and `ColorizedEncoderDecoder`. Here's starter code:"
   ]
  },
  {
   "cell_type": "code",
   "execution_count": 210,
   "metadata": {},
   "outputs": [],
   "source": [
    "from torch_color_describer import Encoder\n",
    "\n",
    "class ColorizedInputDescriber(ContextualColorDescriber):\n",
    "\n",
    "    def build_graph(self):\n",
    "\n",
    "        # We didn't modify the encoder, so this is\n",
    "        # just copied over from the original:\n",
    "        encoder = Encoder(\n",
    "            color_dim=self.color_dim,\n",
    "            hidden_dim=self.hidden_dim)\n",
    "\n",
    "        # Use your `ColorContextDecoder`, making sure\n",
    "        # to pass in all the keyword arguments coming\n",
    "        # from `ColorizedInputDescriber`:\n",
    "        decoder = ColorContextDecoder(\n",
    "            color_dim=self.color_dim,\n",
    "            vocab_size=self.vocab_size,\n",
    "            embed_dim=self.embed_dim,\n",
    "            hidden_dim=self.hidden_dim,\n",
    "            embedding=self.embedding)\n",
    "\n",
    "        # Return a `ColorizedEncoderDecoder` that uses\n",
    "        # your encoder and decoder:\n",
    "        return ColorizedEncoderDecoder(encoder, decoder)"
   ]
  },
  {
   "cell_type": "markdown",
   "metadata": {},
   "source": [
    "That's it! Since these modifications are pretty intricate, you might want to use [a toy dataset](colors_overview.ipynb#Toy-problems-for-development-work) to debug it:"
   ]
  },
  {
   "cell_type": "code",
   "execution_count": 211,
   "metadata": {},
   "outputs": [],
   "source": [
    "def test_full_system(describer_class):\n",
    "    toy_color_seqs, toy_word_seqs, toy_vocab = create_example_dataset(\n",
    "        group_size=50, vec_dim=2)\n",
    "\n",
    "    toy_color_seqs_train, toy_color_seqs_test, toy_word_seqs_train, toy_word_seqs_test = \\\n",
    "        train_test_split(toy_color_seqs, toy_word_seqs)\n",
    "\n",
    "    toy_mod = describer_class(toy_vocab)\n",
    "\n",
    "    _ = toy_mod.fit(toy_color_seqs_train, toy_word_seqs_train)\n",
    "\n",
    "    acc = toy_mod.listener_accuracy(toy_color_seqs_test, toy_word_seqs_test)\n",
    "\n",
    "    return acc"
   ]
  },
  {
   "cell_type": "code",
   "execution_count": 61,
   "metadata": {},
   "outputs": [
    {
     "name": "stderr",
     "output_type": "stream",
     "text": [
      "Finished epoch 1000 of 1000; error is 0.09947841614484787"
     ]
    },
    {
     "data": {
      "text/plain": [
       "1.0"
      ]
     },
     "execution_count": 61,
     "metadata": {},
     "output_type": "execute_result"
    }
   ],
   "source": [
    "test_full_system(ColorizedInputDescriber)"
   ]
  },
  {
   "cell_type": "markdown",
   "metadata": {},
   "source": [
    "If that worked, then you can now try this model on SCC problems!"
   ]
  },
  {
   "cell_type": "markdown",
   "metadata": {},
   "source": [
    "## Your original system [3 points]"
   ]
  },
  {
   "cell_type": "markdown",
   "metadata": {},
   "source": [
    "There are many options for your original system, which consists of the full pipeline – all preprocessing and modeling steps. You are free to use any model you like, as long as you subclass `ContextualColorDescriber` in a way that allows its `evaluate` method to behave in the expected way.\n",
    "\n",
    "So that we can evaluate models in a uniform way for the bake-off, we ask that you modify the function `evaluate_original_system` below so that it accepts a trained instance of your model and does any preprocessing steps required by your model.\n",
    "\n",
    "If we seek to reproduce your results, we will rerun this entire notebook. Thus, it is fine if your `evaluate_original_system` makes use of functions you wrote or modified above this cell."
   ]
  },
  {
   "cell_type": "code",
   "execution_count": 212,
   "metadata": {},
   "outputs": [],
   "source": [
    "# Original System\n",
    "# TODO: ADD DESCRIPTION HERE\n",
    "\n",
    "import torch.nn as nn\n",
    "from torch_color_describer import Encoder, Decoder, EncoderDecoder\n",
    "\n",
    "class DeepEncoder(Encoder):\n",
    "    def __init__(self, *args, num_layers=2, **kwargs):\n",
    "        super().__init__(*args, **kwargs)\n",
    "        self.num_layers = num_layers\n",
    "        self.rnn = nn.GRU(\n",
    "        #self.rnn = nn.LSTM(\n",
    "            input_size=self.color_dim,\n",
    "            hidden_size=self.hidden_dim,\n",
    "            num_layers=self.num_layers,\n",
    "            batch_first=True)\n",
    "\n",
    "class DeepDecoder(Decoder):\n",
    "    def __init__(self, color_dim, num_layers=2, *args, **kwargs):\n",
    "        self.color_dim = color_dim\n",
    "        self.num_layers = num_layers\n",
    "        super().__init__(*args, **kwargs)\n",
    "\n",
    "        # Fix the `self.rnn` attribute.\n",
    "        #self.rnn = nn.LSTM(\n",
    "        self.rnn = nn.GRU(\n",
    "            input_size=self.embed_dim + self.color_dim,\n",
    "            hidden_size=self.hidden_dim,\n",
    "            num_layers=self.num_layers,\n",
    "            batch_first=True)\n",
    "\n",
    "\n",
    "    def get_embeddings(self, word_seqs, target_colors=None):\n",
    "        \"\"\"\n",
    "        You can assume that `target_colors` is a tensor of shape\n",
    "        (m, n), where m is the length of the batch (same as\n",
    "        `word_seqs.shape[0]`) and n is the dimensionality of the\n",
    "        color representations the model is using. The goal is\n",
    "        to attached each color vector i to each of the tokens in\n",
    "        the ith sequence of (the embedded version of) `word_seqs`.\n",
    "        \"\"\"\n",
    "        _, num_repeated = word_seqs.shape\n",
    "        colors_repeated = torch.repeat_interleave(target_colors, num_repeated, dim=0)\n",
    "        return torch.cat((\n",
    "            self.embedding(word_seqs),\n",
    "            torch.reshape(colors_repeated, (target_colors.shape[0], num_repeated, target_colors.shape[1]))),\n",
    "            2)\n",
    "\n",
    "\n",
    "class DeepContextualColorDescriber(ContextualColorDescriber):\n",
    "    def __init__(self, vocab, num_layers=5, *args, **kwargs):\n",
    "        self.num_layers = num_layers\n",
    "        super().__init__(vocab, *args, **kwargs)\n",
    "        # DEL:\n",
    "        #self.hidden_dim=10\n",
    "        #self.embed_dim=10      \n",
    "        print(\"Config: num_layers: {0}, hidden_dim: {1}, embed_dim={2}\".format(\n",
    "            self.num_layers, self.hidden_dim, self.embed_dim))\n",
    "\n",
    "    def build_graph(self):\n",
    "        encoder = DeepEncoder(\n",
    "            color_dim=self.color_dim,\n",
    "            hidden_dim=self.hidden_dim,\n",
    "            num_layers=self.num_layers)  # The new piece is this argument.\n",
    "\n",
    "        decoder = DeepDecoder(\n",
    "            color_dim=self.color_dim,\n",
    "            num_layers=self.num_layers,\n",
    "            vocab_size=self.vocab_size,\n",
    "            embed_dim=self.embed_dim,\n",
    "            embedding=self.embedding,\n",
    "            hidden_dim=self.hidden_dim)\n",
    "\n",
    "        return ColorizedEncoderDecoder(encoder, decoder)\n",
    "    \n",
    "\n",
    "class CvEncoder(Encoder):\n",
    "    def __init__(self, *args, padding=0, **kwargs):\n",
    "        super().__init__(*args, **kwargs)\n",
    "        self.padding = padding\n",
    "        self.kernel_size = 3\n",
    "        self.conv1 = nn.Conv1d(\n",
    "            self.color_dim, self.hidden_dim, kernel_size=self.kernel_size, padding=self.padding)\n",
    "\n",
    "    def forward(self, color_seqs):\n",
    "        h = self.conv1(color_seqs.permute(0, 2, 1))\n",
    "        hidden, _ = torch.max(h, dim=-1)\n",
    "        return hidden.unsqueeze(dim=0)\n",
    "    \n",
    "class CvColorDescriber(ContextualColorDescriber): \n",
    "    def __init__(self, *args, padding=0, **kwargs):\n",
    "        self.padding = padding\n",
    "        super().__init__(*args, **kwargs)\n",
    "        \n",
    "                \n",
    "    def build_graph(self):\n",
    "        encoder = CvEncoder(\n",
    "            color_dim=self.color_dim,\n",
    "            hidden_dim=self.hidden_dim,\n",
    "            padding=self.padding\n",
    "        ) \n",
    "        \n",
    "        \"\"\"\n",
    "        decoder = DeepDecoder(\n",
    "            color_dim=self.color_dim,\n",
    "            num_layers=1,\n",
    "            vocab_size=self.vocab_size,\n",
    "            embed_dim=self.embed_dim,\n",
    "            embedding=self.embedding,\n",
    "            hidden_dim=self.hidden_dim)\n",
    "        \n",
    "        \"\"\"\n",
    "        decoder = ColorContextDecoder(\n",
    "            color_dim=self.color_dim,\n",
    "            vocab_size=self.vocab_size,\n",
    "            embed_dim=self.embed_dim,\n",
    "            embedding=self.embedding,\n",
    "            hidden_dim=self.hidden_dim)\n",
    "        return ColorizedEncoderDecoder(encoder, decoder)"
   ]
  },
  {
   "cell_type": "code",
   "execution_count": 63,
   "metadata": {},
   "outputs": [
    {
     "name": "stderr",
     "output_type": "stream",
     "text": [
      "Finished epoch 5 of 1000; error is 1.5640995502471924"
     ]
    },
    {
     "name": "stdout",
     "output_type": "stream",
     "text": [
      "Config: num_layers: 5, hidden_dim: 50, embed_dim=50\n"
     ]
    },
    {
     "name": "stderr",
     "output_type": "stream",
     "text": [
      "Finished epoch 1000 of 1000; error is 0.10798472911119461"
     ]
    },
    {
     "data": {
      "text/plain": [
       "1.0"
      ]
     },
     "execution_count": 63,
     "metadata": {},
     "output_type": "execute_result"
    }
   ],
   "source": [
    "test_full_system(DeepContextualColorDescriber)"
   ]
  },
  {
   "cell_type": "code",
   "execution_count": 223,
   "metadata": {},
   "outputs": [
    {
     "name": "stderr",
     "output_type": "stream",
     "text": [
      "Finished epoch 5 of 5; error is 219.24215126037598/Users/miraleung/scu/xcs224u/hw/cs224u/torch_color_describer.py:680: RuntimeWarning: divide by zero encountered in power\n",
      "  perp = [np.prod(s)**(-1/len(s)) for s in scores]\n"
     ]
    },
    {
     "name": "stdout",
     "output_type": "stream",
     "text": [
      "Accuracy: 0.9009501871580766\n"
     ]
    }
   ],
   "source": [
    "# DEL: More testing\n",
    "\n",
    "\"\"\"\n",
    "dev_mod_deep = DeepContextualColorDescriber(\n",
    "    dev_glove_vocab, \n",
    "    embedding=dev_glove_embedding,\n",
    "    num_layers=5,\n",
    "    embed_dim=10, \n",
    "    hidden_dim=10, \n",
    "    max_iter=25, \n",
    "    batch_size=128)\n",
    "_ = dev_mod_deep.fit(dev_cols_train, dev_seqs_train)\n",
    "dev_mod_deep_acc = dev_mod_deep.listener_accuracy(dev_cols_test, dev_seqs_test)\n",
    "print(\"Accuracy: {0}\".format(dev_mod_deep_acc))\n",
    "\"\"\"\n",
    "dev_mod_cv = CvColorDescriber(\n",
    "    dev_glove_vocab, \n",
    "    embedding=dev_glove_embedding,\n",
    "    hidden_dim=5, \n",
    "    embed_dim=50,\n",
    "    max_iter=5, \n",
    "    batch_size=256)\n",
    "_ = dev_mod_cv.fit(dev_cols_train, dev_seqs_train)\n",
    "dev_mod_cv_acc = dev_mod_cv.listener_accuracy(dev_cols_test, dev_seqs_test)\n",
    "print(\"Accuracy: {0}\".format(dev_mod_cv_acc))"
   ]
  },
  {
   "cell_type": "markdown",
   "metadata": {},
   "source": [
    "# DEL: Data / Testing\n",
    "\n",
    "Used: \n",
    "- Conv1d, hidden=5, embed=50, batch_size=256, max_iter=5\n",
    "\n",
    "## BERT tokenizer only, raw, bert-large-uncased\n",
    "- Conv1d, hidden=5, embed=50, batch_size=256, max_iter=5\n",
    "  - Finished epoch 5 of 5; error is 227.30396032333374\n",
    "    - Accuracy: 0.9021019291678664 \n",
    "- GRU, 5 layers, hidden=10, embed=10, DeepEncoder, max_iter=25, batch_size=128\n",
    "  - Finished epoch 25 of 25; error is 241.92416071891785\n",
    "    - Accuracy: 0.636049524906421\n",
    "\n",
    "## BERT tokenizer only, raw, bert-large-cased\n",
    "\n",
    "## BERT tokenizer only, raw, bert-base-cased\n",
    "- Conv1d, hidden=5, embed=50, batch_size=256, max_iter=5\n",
    "  - Accuracy: 0.8856896055283616\n",
    "- GRU, 5 layers, hidden=10, embed=10, DeepEncoder, max_iter=25, batch_size=128\n",
    "  - Finished epoch 25 of 25; error is 255.03439044952393\n",
    "    - Accuracy: 0.6308666858623668\n",
    "\n",
    "## BERT tokenizer only, raw, bert-base-uncased\n",
    "BEST: Conv1d, hidden=5, embed=50, batch_size=256, max_iter=5\n",
    "BEST SCORE: Accuracy: 0.937517995968903\n",
    "\n",
    "- Conv1d, hidden=5, embed=45, batch_size=256, max_iter=5\n",
    "  - Acc: 0.89\n",
    "- Conv1d, hidden=5, embed=75, batch_size=256, max_iter=5\n",
    "  - Accuracy: 0.8972070256262598 \n",
    "- Conv1d, hidden=5, embed=25, batch_size=256, max_iter=5\n",
    "  - Accuracy: 0.9015260581629715\n",
    "- Conv1d, hidden=5, embed=100, batch_size=256, max_iter=5\n",
    "  - Finished epoch 5 of 5; error is 235.12957191467285\n",
    "    - Accuracy: 0.9136193492657645\n",
    "- Conv1d, hidden=5, embed=50, batch_size=256, max_iter=5\n",
    "  - Finished epoch 5 of 5; error is 235.91493177413943\n",
    "    - Accuracy: 0.937517995968903 \n",
    "- Conv1d, hidden=10, embed=50, batch_size=256, max_iter=5\n",
    "  - Finished epoch 5 of 5; error is 221.97119903564453\n",
    "    - Accuracy: 0.9271523178807947 \n",
    "- Conv1d, hidden=10, embed=10, batch_size=256, max_iter=5\n",
    "  - Finished epoch 5 of 5; error is 225.48944616317756\n",
    "    - Accuracy: 0.9064209617045782 \n",
    "- Conv1d, hidden=10, embed=50, batch_size=1024, max_iter=5\n",
    "  - Finished epoch 5 of 5; error is 73.37850093841553\n",
    "    - Accuracy: 0.8468183126979557\n",
    "- Conv1d, hidden=10, embed=50, batch_size=512, max_iter=5\n",
    "  - Finished epoch 5 of 5; error is 127.20562791824341\n",
    "    - Accuracy: 0.9234091563489778\n",
    "- Conv1d, hidden=10, embed=50, batch_size=128, max_iter=5\n",
    "  - Finished epoch 5 of 5; error is 376.87632679939275\n",
    "    - Accuracy: 0.9023898646703139\n",
    "- Conv1d, hidden=10, embed=50, batch_size=128, max_iter=10\n",
    "  - Finished epoch 10 of 10; error is 333.52702474594116\n",
    "    - Accuracy: 0.9098761877339476\n",
    "- Conv1d, hidden=10, embed=50, batch_size=128, max_iter=25\n",
    "  - Finished epoch 25 of 25; error is 209.70607900619507\n",
    "    - Accuracy: 0.9072847682119205\n",
    "- Conv1d, hidden=10, embed=10, batch_size=128, max_iter=25\n",
    "  - Finished epoch 25 of 25; error is 225.60237765312195\n",
    "    - Accuracy: 0.9072847682119205 \n",
    "- Conv1d, hidden=100, embed=100, batch_size=128, max_iter=25\n",
    "  - Finished epoch 25 of 25; error is 189.2860366106033\n",
    "    - Accuracy: 0.8180247624532104 \n",
    "- GRU, 5 layers, hidden=10, embed=10, DeepEncoder, max_iter=25, batch_size=128\n",
    "  - Finished epoch 25 of 25; error is 244.73929738998413\n",
    "    - Accuracy: 0.6947883674057012 \n",
    "- GRU, 5 layers, hidden=10, embed=10, DeepEncoder, max_iter=5, batch_size=128\n",
    "  - Finished epoch 5 of 5; error is 417.18788480758667\n",
    "    - Accuracy: 0.49784048373164413 \n",
    "- GRU, 5 layers, hidden=5, embed=50, DeepEncoder, max_iter=5, batch_size=256\n",
    "  - Finished epoch 5 of 5; error is 221.77516222000122\n",
    "    - Accuracy: 0.4644399654477397 \n",
    "\n",
    "## BERT tokenizer only, to-lower, bert-large-uncased\n",
    "- Conv1d, hidden=100, embed=100, batch_size=128, max_iter=25\n",
    "  - Finished epoch 25 of 25; error is 187.47414970397954\n",
    "    - Accuracy: 0.8131298589116038 \n",
    "- GRU, 5 layers, hidden=10, embed=10, DeepEncoder, max_iter=25, batch_size=128\n",
    "- LSTM, 5 layers, hidden=10, embed=10, DeepEncoder, max_iter=25, batch_size=128\n",
    "  - Finished epoch 25 of 25; error is 249.21498870849616\n",
    "    - Accuracy: 0.44226893175928594\n",
    "\n",
    "## New BERT (bert-large-uncased) + to-lower + Monroe tokenizer\n",
    "- Conv1d, hidden=100, embed=100, batch_size=128, max_iter=25\n",
    "  - Finished epoch 25 of 25; error is 180.60007059574127\n",
    "    - Accuracy: 0.8016124388137057 \n",
    "- GRU, 5 layers, hidden=10, embed=10, DeepEncoder, max_iter=25, batch_size=128\n",
    "  - Finished epoch 25 of 25; error is 229.81808829307556\n",
    "    - Accuracy: 0.5928591995393032\n",
    "- LSTM, 5 layers, hidden=10, embed=10, DeepEncoder, max_iter=25, batch_size=128\n",
    "  - Finished epoch 25 of 25; error is 231.06814122200012\n",
    "    - Accuracy: 0.6052404261445437\n",
    "\n",
    "\n",
    "## Old Monroe, Stanford parser\n",
    "\n",
    "- LSTM, 5 layers, hidden=50, embed=50\n",
    "  - Finished epoch 1000 of 1000; error is 0.11445938050746918 \n",
    "- GRU, 2 layers, hidden=50, embed=50\n",
    "  - Finished epoch 1000 of 1000; error is 0.12016019970178604\n",
    "- GRU, 5 layers, hidden=50, embed=50\n",
    "  - Finished epoch 1000 of 1000; error is 0.10635438561439514\n",
    "  - Finished epoch 1000 of 1000; error is 0.10232776403427124\n",
    "- GRU, 5 layers, hidden=10, embed=10\n",
    "  - Finished epoch 1000 of 1000; error is 0.10539861768484116\n",
    "- GRU, 5 layers, hidden=250, embed=10\n",
    "  - Finished epoch 1000 of 1000; error is 0.10099897533655167 \n",
    "- GRU, 5 layers, hidden=5, embed=5\n",
    "  - Finished epoch 1000 of 1000; error is 0.25616884231567383\n",
    "  \n",
    "\n",
    "## Encoder type\n",
    "- GRU, 10 layers, hidden=300, embed=300, DeepEncoder, batch 1024\n",
    "  - Finished epoch 5 of 5; error is 56.547504425048836\n",
    "- GRU, 5 layers, hidden=300, embed=50, DeepEncoder, batch 1024\n",
    "  - Finished epoch 5 of 5; error is 57.317170619964695\n",
    "  - Accuracy: 0.33659660236107114 \n",
    "- GRU, 5 layers, hidden=300, embed=300, DeepEncoder, batch 1024\n",
    "  - Finished epoch 5 of 5; error is 56.104586601257324 \n",
    "- GRU, 5 layers, hidden=100, embed=300, DeepEncoder\n",
    "  - Finished epoch 5 of 5; error is 58.845255851745605\n",
    "- GRU, 5 layers, hidden=10, embed=10, DeepEncoder, batch 256\n",
    "  - Finished epoch 5 of 5; error is 211.65790700912476\n",
    "  - Accuracy: 0.3253671177656205 \n",
    "  - Finished epoch 5 of 5; error is 218.40114831924438\n",
    "  - Accuracy: 0.3210480852289087\n",
    "  \n",
    "- GRU, 5 layers, hidden=10, embed=10, DeepEncoder\n",
    "  - Finished epoch 5 of 5; error is 225.49082040786743 \n",
    "  - Batch 1024: Finished epoch 5 of 5; error is 74.06650495529175 \n",
    "- GRU, 5 layers, hidden=10, embed=100, DeepEncoder\n",
    "  - Finished epoch 5 of 5; error is 73.15999841690063\n",
    "- GRU, 5 layers, hidden=10, embed=50, DeepEncoder\n",
    "  - Batch 256: Finished epoch 5 of 5; error is 218.55037784576416\n",
    "  - Batch 512: 128.20260238647467\n",
    "  - Batch 1024: Finished epoch 5 of 5; error is 73.60409688949585 \n",
    "- Conv1d, hidden=10, embed=50 (default), batch_size=256, max_iter=5\n",
    "  - Finished epoch 5 of 5; error is 202.05388069152832\n",
    "- Conv1d, hidden=10, embed=10, batch_size=256, max_iter=1000\n",
    "  - Finished epoch 80 of 1000; error is 62.842184662818918\n",
    "- Conv1d, hidden=10, embed=10, batch_size=128, max_iter=10\n",
    "  - Finished epoch 15 of 1000; error is 266.63916587829594\n",
    "- Conv1d, hidden=10, embed=default, batch_size=128, max_iter=10, GRU decoder\n",
    "  - Finished epoch 5 of 5; error is 328.58452320098877\n",
    "- Conv1d, hidden=10, embed=50 (default), batch_size=128, max_iter=5\n",
    "  - Finished epoch 5 of 5; error is 351.91490721702576\n",
    "  - Accuracy: 0.5873884249928016\n",
    "- Conv1d, hidden=100, embed=50 (default), batch_size=1024, max_iter=5\n",
    "  - Finished epoch 5 of 5; error is 57.56720161437988\n",
    "  - Accuracy: 0.6003455226029369 \n",
    "- Conv1d, hidden=10, embed=50 (default), batch_size=1024, max_iter=5\n",
    "  - Finished epoch 5 of 5; error is 74.23692989349365\n",
    "  - Accuracy: 0.42182551108551686\n",
    "- Conv1d, hidden=10, embed=50 (default), batch_size=256, max_iter=5\n",
    "  - Finished epoch 5 of 5; error is 203.10836172103882\n",
    "  - Accuracy: 0.5295133890008638\n",
    "- Conv1d, hidden=10, embed=10 (default), batch_size=128, max_iter=5\n",
    "  - Finished epoch 5 of 5; error is 365.06503653526306\n",
    "  - Accuracy: 0.5885401670025914\n",
    "- Conv1d, hidden=10, embed=10, batch_size=128, max_iter=25\n",
    "  - Finished epoch 25 of 25; error is 226.11915516853333\n",
    "  - Accuracy: 0.7569824359343507\n",
    "- Conv1d, hidden=100, embed=100, batch_size=128, max_iter=25\n",
    "  - Finished epoch 25 of 25; error is 173.57468342781067\n",
    "  - Accuracy: 0.785200115174201"
   ]
  },
  {
   "cell_type": "code",
   "execution_count": 85,
   "metadata": {},
   "outputs": [
    {
     "name": "stderr",
     "output_type": "stream",
     "text": [
      "Stopping after epoch 35. Validation score did not improve by tol=1e-05 for more than 10 epochs. Final error is 49.37194013595581"
     ]
    },
    {
     "name": "stdout",
     "output_type": "stream",
     "text": [
      "CPU times: user 8min 27s, sys: 2min 5s, total: 10min 32s\n",
      "Wall time: 5min 29s\n"
     ]
    }
   ],
   "source": [
    "# Train\n",
    "# DEL: TODO: Hyperparam tuning, param passing, try without glove\n",
    "mod_bakeoff = DeepContextualColorDescriber(\n",
    "    dev_glove_vocab,\n",
    "    num_layers=5,\n",
    "    embedding=dev_glove_embedding,\n",
    "    early_stopping=True, \n",
    "    embed_dim=10, \n",
    "    hidden_dim=10)\n",
    "%time _ = mod_bakeoff.fit(dev_cols_train, dev_seqs_train)"
   ]
  },
  {
   "cell_type": "code",
   "execution_count": 224,
   "metadata": {},
   "outputs": [],
   "source": [
    "mod_bakeoff = dev_mod_cv\n",
    "dev_mod = mod_bakeoff"
   ]
  },
  {
   "cell_type": "markdown",
   "metadata": {},
   "source": [
    "# Evaluation"
   ]
  },
  {
   "cell_type": "code",
   "execution_count": 225,
   "metadata": {},
   "outputs": [],
   "source": [
    "def evaluate_original_system(trained_model, color_seqs_test, texts_test):\n",
    "    \"\"\"\n",
    "    Feel free to modify this code to accommodate the needs of\n",
    "    your system. Just keep in mind that it will get raw corpus\n",
    "    examples as inputs for the bake-off.\n",
    "\n",
    "    \"\"\"\n",
    "    # `word_seqs_test` is a list of strings, so tokenize each of\n",
    "    # its elements:\n",
    "    tok_seqs = [tokenize_example(s) for s in texts_test]\n",
    "\n",
    "    col_seqs = [represent_color_context(colors)\n",
    "                for colors in color_seqs_test]\n",
    "\n",
    "\n",
    "    # Optionally include other preprocessing steps here. Note:\n",
    "    # DO NOT RETRAIN YOUR MODEL AS PART OF THIS EVALUATION!\n",
    "    # It's a tempting step, but it's a mistake and will get\n",
    "    # you disqualified!\n",
    "\n",
    "    # The following core score calculations are required:\n",
    "    evaluation = trained_model.evaluate(col_seqs, tok_seqs)\n",
    "\n",
    "    return evaluation"
   ]
  },
  {
   "cell_type": "markdown",
   "metadata": {},
   "source": [
    "If `evaluate_original_system` works on test sets you create from the corpus distribution, then it will work for the bake-off, so consider checking that. For example, this would check that `dev_mod` above passes muster:"
   ]
  },
  {
   "cell_type": "code",
   "execution_count": 226,
   "metadata": {},
   "outputs": [
    {
     "name": "stderr",
     "output_type": "stream",
     "text": [
      "/Users/miraleung/scu/xcs224u/hw/cs224u/torch_color_describer.py:680: RuntimeWarning: divide by zero encountered in power\n",
      "  perp = [np.prod(s)**(-1/len(s)) for s in scores]\n"
     ]
    }
   ],
   "source": [
    "my_evaluation = evaluate_original_system(dev_mod, dev_rawcols_test, dev_texts_test)"
   ]
  },
  {
   "cell_type": "code",
   "execution_count": 227,
   "metadata": {},
   "outputs": [
    {
     "data": {
      "text/plain": [
       "0.9009501871580766"
      ]
     },
     "execution_count": 227,
     "metadata": {},
     "output_type": "execute_result"
    }
   ],
   "source": [
    "my_evaluation['listener_accuracy']"
   ]
  },
  {
   "cell_type": "code",
   "execution_count": 228,
   "metadata": {},
   "outputs": [
    {
     "data": {
      "text/plain": [
       "0.07809143394199784"
      ]
     },
     "execution_count": 228,
     "metadata": {},
     "output_type": "execute_result"
    }
   ],
   "source": [
    "my_evaluation['corpus_bleu']"
   ]
  },
  {
   "cell_type": "markdown",
   "metadata": {},
   "source": [
    "In the cell below, please provide a brief technical description of your original system, so that the teaching team can gain an understanding of what it does. This will help us to understand your code and analyze all the submissions to identify patterns and strategies. We also ask that you report the best **listener_accuracy** score your system got during development, just to help us understand how systems performed overall."
   ]
  },
  {
   "cell_type": "code",
   "execution_count": null,
   "metadata": {},
   "outputs": [],
   "source": [
    "# PLEASE MAKE SURE TO INCLUDE THE FOLLOWING BETWEEN THE START AND STOP COMMENTS:\n",
    "#   1) Textual description of your system.\n",
    "#   2) The code for your original system.\n",
    "#   3) The score achieved by your system in place of MY_NUMBER.\n",
    "#        With no other changes to that line.\n",
    "#        You should report your score as a decimal value <=1.0\n",
    "# PLEASE MAKE SURE NOT TO DELETE OR EDIT THE START AND STOP COMMENTS\n",
    "\n",
    "# NOTE: MODULES, CODE AND DATASETS REQUIRED FOR YOUR ORIGINAL SYSTEM\n",
    "# SHOULD BE ADDED BELOW THE 'IS_GRADESCOPE_ENV' CHECK CONDITION. DOING\n",
    "# SO ABOVE THE CHECK MAY CAUSE THE AUTOGRADER TO FAIL.\n",
    "\n",
    "# START COMMENT: Enter your system description in this cell.\n",
    "# My peak score was: MY_NUMBER\n",
    "if 'IS_GRADESCOPE_ENV' not in os.environ:\n",
    "    pass\n",
    "\n",
    "# STOP COMMENT: Please do not remove this comment."
   ]
  },
  {
   "cell_type": "markdown",
   "metadata": {},
   "source": [
    "## Bakeoff [1 point]"
   ]
  },
  {
   "cell_type": "markdown",
   "metadata": {},
   "source": [
    "For the bake-off, we will use our original test set. The function you need to run for the submission is the following, which uses your `evaluate_original_system` from above:"
   ]
  },
  {
   "cell_type": "code",
   "execution_count": 231,
   "metadata": {},
   "outputs": [],
   "source": [
    "def create_bakeoff_submission(\n",
    "        trained_model,\n",
    "        output_filename='cs224u-colors-bakeoff-entry.csv'):\n",
    "    bakeoff_src_filename = os.path.join(\n",
    "        \"data\", \"colors\", \"cs224u-colors-test.csv\")\n",
    "\n",
    "    bakeoff_corpus = ColorsCorpusReader(bakeoff_src_filename)\n",
    "\n",
    "    # This code just extracts the colors and texts from the new corpus:\n",
    "    bakeoff_rawcols, bakeoff_texts = zip(*[\n",
    "        [ex.colors, ex.contents] for ex in bakeoff_corpus.read()])\n",
    "\n",
    "    # Original system function call; `trained_model` is your trained model:\n",
    "    evaluation = evaluate_original_system(\n",
    "        trained_model, bakeoff_rawcols, bakeoff_texts)\n",
    "\n",
    "    evaluation['bakeoff_text'] = bakeoff_texts\n",
    "\n",
    "    df = pd.DataFrame(evaluation)\n",
    "    df.to_csv(output_filename)"
   ]
  },
  {
   "cell_type": "code",
   "execution_count": 233,
   "metadata": {},
   "outputs": [
    {
     "name": "stderr",
     "output_type": "stream",
     "text": [
      "/Users/miraleung/scu/xcs224u/hw/cs224u/torch_color_describer.py:680: RuntimeWarning: divide by zero encountered in power\n",
      "  perp = [np.prod(s)**(-1/len(s)) for s in scores]\n"
     ]
    }
   ],
   "source": [
    "create_bakeoff_submission(dev_mod)"
   ]
  },
  {
   "cell_type": "markdown",
   "metadata": {},
   "source": [
    "This creates a file `cs224u-colors-bakeoff-entry.csv` in the current directory. That file should be uploaded as-is. Please do not change its name.\n",
    "\n",
    "Only one upload per team is permitted, and you should do no tuning of your system based on what you see in the file – you should not study that file in anyway, beyond perhaps checking that it contains what you expected it to contain. The upload function will do some additional checking to ensure that your file is well-formed.\n",
    "\n",
    "The nature of our evaluation is such that we have to release the full test set with all labels. Thus, we have to trust you not to make any use of the test set during development. Recall:\n",
    "\n",
    "1. Only one evaluation is permitted.\n",
    "1. No additional system tuning is permitted once the bake-off has started.\n",
    "\n",
    "Systems will be ranked primarily by `listener_accuracy`, but we will also consider their `corpus_bleu` scores. However, the BLEU score is just a simple check that your system is speaking some version of English that corresponds in some meaningful way to the gold descriptions, so you should concentrate on `listener_accuracy`.\n",
    "\n",
    "People who enter will receive the additional homework point, and people whose systems achieve the top score will receive an additional 0.5 points. We will test the top-performing systems ourselves, and only systems for which we can reproduce the reported results will win the extra 0.5 points.\n",
    "\n",
    "Late entries will be accepted, but they cannot earn the extra 0.5 points."
   ]
  },
  {
   "cell_type": "markdown",
   "metadata": {},
   "source": [
    "## Submission Instruction\n",
    "\n",
    "Submit the following files to gradescope submission\n",
    "\n",
    "- Please do not change the file name as described below\n",
    "- `hw_colors.ipynb` (this notebook)\n",
    "- `cs224u-colors-bakeoff-entry.csv` (bake-off output)"
   ]
  }
 ],
 "metadata": {
  "kernelspec": {
   "display_name": "Python 3",
   "language": "python",
   "name": "python3"
  },
  "language_info": {
   "codemirror_mode": {
    "name": "ipython",
    "version": 3
   },
   "file_extension": ".py",
   "mimetype": "text/x-python",
   "name": "python",
   "nbconvert_exporter": "python",
   "pygments_lexer": "ipython3",
   "version": "3.8.8"
  }
 },
 "nbformat": 4,
 "nbformat_minor": 4
}
